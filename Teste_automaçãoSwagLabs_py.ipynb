{
  "nbformat": 4,
  "nbformat_minor": 0,
  "metadata": {
    "colab": {
      "provenance": [],
      "authorship_tag": "ABX9TyNOwYczAk2z/2NuFGgoJ8ql",
      "include_colab_link": true
    },
    "kernelspec": {
      "name": "python3",
      "display_name": "Python 3"
    },
    "language_info": {
      "name": "python"
    }
  },
  "cells": [
    {
      "cell_type": "markdown",
      "metadata": {
        "id": "view-in-github",
        "colab_type": "text"
      },
      "source": [
        "<a href=\"https://colab.research.google.com/github/arthursouto09/Teste-de-Automacaoo-SeaSolutions/blob/main/Teste_automa%C3%A7%C3%A3oSwagLabs_py.ipynb\" target=\"_parent\"><img src=\"https://colab.research.google.com/assets/colab-badge.svg\" alt=\"Open In Colab\"/></a>"
      ]
    },
    {
      "cell_type": "code",
      "source": [
        "# Instala a versão o python\n",
        "!sudo apt-get update -y\n",
        "!sudo apt-get install python3.12\n",
        "\n",
        "# Define a versão como padrão\n",
        "!sudo update-alternatives --install /usr/bin/python3 python3 /usr/bin/python3.12 1\n",
        "\n",
        "# Verifica a versão do python instalada\n",
        "!python --version\n",
        "\n",
        "!pip install selenium==4.15.2\n",
        "!pip install pandas\n",
        "\n",
        "from selenium import webdriver\n",
        "from selenium.webdriver.common.by import By\n",
        "from selenium.webdriver.support.ui import WebDriverWait\n",
        "from selenium.webdriver.support import expected_conditions as EC\n",
        "import pandas as pd\n",
        "\n",
        "# Configurando o webdriver para o Google Colab\n",
        "options = webdriver.ChromeOptions()\n",
        "options.add_argument('--headless')  # Para executar em segundo plano\n",
        "options.add_argument('--no-sandbox')\n",
        "options.add_argument('--disable-dev-shm-usage')\n",
        "\n",
        "# Instanciando o webdriver\n",
        "driver = webdriver.Chrome(options=options)\n",
        "\n",
        "# Abrindo a página do site\n",
        "driver.get(\"https://www.saucedemo.com/\")\n",
        "\n",
        "# Carregando as credenciais do arquivo CSV\n",
        "credenciais = pd.read_csv(\"user_password.csv\",sep=\";\")\n",
        "\n",
        "# Fazendo login com o primeiro usuário da tabela CSV\n",
        "primeiro_usuario = credenciais.iloc[0]\n",
        "print(primeiro_usuario['user'], primeiro_usuario['password'])\n",
        "\n",
        "# Fazer login no site saucedemo\n",
        "driver.find_element(By.ID, \"user-name\").send_keys(primeiro_usuario['user'])\n",
        "driver.find_element(By.ID, \"password\").send_keys(primeiro_usuario['password'])\n",
        "driver.find_element(By.ID, \"login-button\").click()\n",
        "\n",
        "# Selecionar os produtos e clicar para incluí-los no carrinho\n",
        "produtos = [\"Test.allTheThings() T-Shirt (Red)\", \"Sauce Labs Bolt T-Shirt\", \"Sauce Labs Bike Light\"]\n",
        "for produto in produtos:\n",
        "    driver.find_element(By.XPATH, f\"//*[text()='{produto}']/ancestor::div[@class='inventory_item']//button\").click()\n",
        "\n",
        "# Clica no carrinho e em Checkout\n",
        "driver.find_element(By.CLASS_NAME, \"shopping_cart_badge\").click()\n",
        "driver.find_element(By.ID, \"checkout\").click()\n",
        "\n",
        "# Preencher os inputs com informações de cliente e clicar no botão\n",
        "driver.find_element(By.ID, \"first-name\").send_keys(\"Nome\")\n",
        "driver.find_element(By.ID, \"last-name\").send_keys(\"Sobrenome\")\n",
        "driver.find_element(By.ID, \"postal-code\").send_keys(\"12345\")\n",
        "driver.find_element(By.ID, \"continue\").click()\n",
        "\n",
        "# Printar o resultado final\n",
        "print(driver.find_element(By.CLASS_NAME, \"summary_total_label\").text)\n",
        "\n",
        "driver.find_element(By.ID, \"finish\").click()"
      ],
      "metadata": {
        "colab": {
          "base_uri": "https://localhost:8080/"
        },
        "collapsed": true,
        "id": "RLkJT59T1fPR",
        "outputId": "0ee2299a-a90f-45da-b4e2-771f92f721a4"
      },
      "execution_count": 12,
      "outputs": [
        {
          "output_type": "stream",
          "name": "stdout",
          "text": [
            "\r0% [Working]\r            \rHit:1 https://cloud.r-project.org/bin/linux/ubuntu jammy-cran40/ InRelease\n",
            "Hit:2 https://developer.download.nvidia.com/compute/cuda/repos/ubuntu2204/x86_64  InRelease\n",
            "Hit:3 http://security.ubuntu.com/ubuntu jammy-security InRelease\n",
            "Hit:4 http://archive.ubuntu.com/ubuntu jammy InRelease\n",
            "Hit:5 http://archive.ubuntu.com/ubuntu jammy-updates InRelease\n",
            "Hit:6 http://archive.ubuntu.com/ubuntu jammy-backports InRelease\n",
            "Hit:7 https://ppa.launchpadcontent.net/c2d4u.team/c2d4u4.0+/ubuntu jammy InRelease\n",
            "Hit:8 https://ppa.launchpadcontent.net/deadsnakes/ppa/ubuntu jammy InRelease\n",
            "Hit:9 https://ppa.launchpadcontent.net/graphics-drivers/ppa/ubuntu jammy InRelease\n",
            "Hit:10 https://ppa.launchpadcontent.net/ubuntugis/ppa/ubuntu jammy InRelease\n",
            "Reading package lists... Done\n",
            "Reading package lists... Done\n",
            "Building dependency tree... Done\n",
            "Reading state information... Done\n",
            "python3.12 is already the newest version (3.12.3-1+jammy1).\n",
            "0 upgraded, 0 newly installed, 0 to remove and 45 not upgraded.\n",
            "Python 3.12.3\n",
            "Traceback (most recent call last):\n",
            "  File \"/usr/local/bin/pip3\", line 5, in <module>\n",
            "    from pip._internal.cli.main import main\n",
            "ModuleNotFoundError: No module named 'pip'\n",
            "Traceback (most recent call last):\n",
            "  File \"/usr/local/bin/pip3\", line 5, in <module>\n",
            "    from pip._internal.cli.main import main\n",
            "ModuleNotFoundError: No module named 'pip'\n",
            "standard_user secret_sauce\n",
            "Total: $45.33\n"
          ]
        }
      ]
    }
  ]
}